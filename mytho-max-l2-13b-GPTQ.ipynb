{
  "cells": [
    {
      "cell_type": "markdown",
      "metadata": {
        "id": "view-in-github",
        "colab_type": "text"
      },
      "source": [
        "<a href=\"https://colab.research.google.com/github/artin-fathzadeh/form/blob/main/mytho-max-l2-13b-GPTQ.ipynb\" target=\"_parent\"><img src=\"https://colab.research.google.com/assets/colab-badge.svg\" alt=\"Open In Colab\"/></a>"
      ]
    },
    {
      "cell_type": "code",
      "execution_count": null,
      "metadata": {
        "id": "VCFOzsQSHbjM"
      },
      "outputs": [],
      "source": [
        "%cd /content\n",
        "!apt-get -y install -qq aria2\n",
        "!git clone -b v2.8 https://github.com/camenduru/text-generation-webui\n",
        "%cd /content/text-generation-webui\n",
        "!pip install -q -r requirements.txt\n",
        "\n",
        "!aria2c --console-log-level=error -c -x 16 -s 16 -k 1M https://huggingface.co/4bit/MythoMax-L2-13B-GPTQ/raw/main/added_tokens.json -d /content/text-generation-webui/models/MythoMax-L2-13B-GPTQ -o added_tokens.json\n",
        "!aria2c --console-log-level=error -c -x 16 -s 16 -k 1M https://huggingface.co/4bit/MythoMax-L2-13B-GPTQ/raw/main/config.json -d /content/text-generation-webui/models/MythoMax-L2-13B-GPTQ -o config.json\n",
        "!aria2c --console-log-level=error -c -x 16 -s 16 -k 1M https://huggingface.co/4bit/MythoMax-L2-13B-GPTQ/raw/main/generation_config.json -d /content/text-generation-webui/models/MythoMax-L2-13B-GPTQ -o generation_config.json\n",
        "!aria2c --console-log-level=error -c -x 16 -s 16 -k 1M https://huggingface.co/4bit/MythoMax-L2-13B-GPTQ/resolve/main/model.safetensors -d /content/text-generation-webui/models/MythoMax-L2-13B-GPTQ -o model.safetensors\n",
        "!aria2c --console-log-level=error -c -x 16 -s 16 -k 1M https://huggingface.co/4bit/MythoMax-L2-13B-GPTQ/raw/main/quantize_config.json -d /content/text-generation-webui/models/MythoMax-L2-13B-GPTQ -o quantize_config.json\n",
        "!aria2c --console-log-level=error -c -x 16 -s 16 -k 1M https://huggingface.co/4bit/MythoMax-L2-13B-GPTQ/raw/main/special_tokens_map.json -d /content/text-generation-webui/models/MythoMax-L2-13B-GPTQ -o special_tokens_map.json\n",
        "!aria2c --console-log-level=error -c -x 16 -s 16 -k 1M https://huggingface.co/4bit/MythoMax-L2-13B-GPTQ/raw/main/tokenizer.json -d /content/text-generation-webui/models/MythoMax-L2-13B-GPTQ -o tokenizer.json\n",
        "!aria2c --console-log-level=error -c -x 16 -s 16 -k 1M https://huggingface.co/4bit/MythoMax-L2-13B-GPTQ/resolve/main/tokenizer.model -d /content/text-generation-webui/models/MythoMax-L2-13B-GPTQ -o tokenizer.model\n",
        "!aria2c --console-log-level=error -c -x 16 -s 16 -k 1M https://huggingface.co/4bit/MythoMax-L2-13B-GPTQ/raw/main/tokenizer_config.json -d /content/text-generation-webui/models/MythoMax-L2-13B-GPTQ -o tokenizer_config.json\n",
        "\n",
        "!echo \"dark_theme: true\" > /content/settings.yaml\n",
        "!echo \"chat_style: wpp\" >> /content/settings.yaml\n",
        "!echo \"mode: chat\" >> /content/settings.yaml\n",
        "!echo \"preset: Midnight Enigma\" >> /content/settings.yaml\n",
        "\n",
        "%cd /content/text-generation-webui\n",
        "!python server.py --share --settings /content/settings.yaml --model /content/text-generation-webui/models/MythoMax-L2-13B-GPTQ"
      ]
    }
  ],
  "metadata": {
    "accelerator": "GPU",
    "colab": {
      "provenance": [],
      "gpuType": "T4",
      "include_colab_link": true
    },
    "kernelspec": {
      "display_name": "Python 3",
      "name": "python3"
    },
    "language_info": {
      "name": "python"
    }
  },
  "nbformat": 4,
  "nbformat_minor": 0
}